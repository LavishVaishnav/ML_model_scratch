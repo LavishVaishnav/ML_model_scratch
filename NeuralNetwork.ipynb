{
  "nbformat": 4,
  "nbformat_minor": 0,
  "metadata": {
    "colab": {
      "provenance": [],
      "authorship_tag": "ABX9TyNmPul9vdV/B15UseLZxaP7",
      "include_colab_link": true
    },
    "kernelspec": {
      "name": "python3",
      "display_name": "Python 3"
    },
    "language_info": {
      "name": "python"
    }
  },
  "cells": [
    {
      "cell_type": "markdown",
      "metadata": {
        "id": "view-in-github",
        "colab_type": "text"
      },
      "source": [
        "<a href=\"https://colab.research.google.com/github/LavishVaishnav/ML_model_scratch/blob/main/NeuralNetwork.ipynb\" target=\"_parent\"><img src=\"https://colab.research.google.com/assets/colab-badge.svg\" alt=\"Open In Colab\"/></a>"
      ]
    },
    {
      "cell_type": "code",
      "execution_count": 15,
      "metadata": {
        "id": "Wd5nTmuKKBCw"
      },
      "outputs": [],
      "source": [
        "import pandas as pd\n",
        "import numpy as np\n",
        "import tensorflow\n",
        "from tensorflow import keras\n",
        "from matplotlib import pyplot as pyplot\n",
        "%matplotlib inline"
      ]
    },
    {
      "cell_type": "code",
      "source": [
        "df= pd.read_csv(\"/content/insurance_data.csv\")\n",
        "df.head()"
      ],
      "metadata": {
        "colab": {
          "base_uri": "https://localhost:8080/",
          "height": 206
        },
        "id": "3sjKmuc7xQEV",
        "outputId": "992f8ead-3441-4adf-bd8b-371690478b1e"
      },
      "execution_count": 16,
      "outputs": [
        {
          "output_type": "execute_result",
          "data": {
            "text/plain": [
              "   age  affordibility  bought_insurance\n",
              "0   22              1                 0\n",
              "1   25              0                 0\n",
              "2   47              1                 1\n",
              "3   52              0                 0\n",
              "4   46              1                 1"
            ],
            "text/html": [
              "\n",
              "  <div id=\"df-ecce52f4-3cf7-4e09-8a5e-05c4400bfd47\" class=\"colab-df-container\">\n",
              "    <div>\n",
              "<style scoped>\n",
              "    .dataframe tbody tr th:only-of-type {\n",
              "        vertical-align: middle;\n",
              "    }\n",
              "\n",
              "    .dataframe tbody tr th {\n",
              "        vertical-align: top;\n",
              "    }\n",
              "\n",
              "    .dataframe thead th {\n",
              "        text-align: right;\n",
              "    }\n",
              "</style>\n",
              "<table border=\"1\" class=\"dataframe\">\n",
              "  <thead>\n",
              "    <tr style=\"text-align: right;\">\n",
              "      <th></th>\n",
              "      <th>age</th>\n",
              "      <th>affordibility</th>\n",
              "      <th>bought_insurance</th>\n",
              "    </tr>\n",
              "  </thead>\n",
              "  <tbody>\n",
              "    <tr>\n",
              "      <th>0</th>\n",
              "      <td>22</td>\n",
              "      <td>1</td>\n",
              "      <td>0</td>\n",
              "    </tr>\n",
              "    <tr>\n",
              "      <th>1</th>\n",
              "      <td>25</td>\n",
              "      <td>0</td>\n",
              "      <td>0</td>\n",
              "    </tr>\n",
              "    <tr>\n",
              "      <th>2</th>\n",
              "      <td>47</td>\n",
              "      <td>1</td>\n",
              "      <td>1</td>\n",
              "    </tr>\n",
              "    <tr>\n",
              "      <th>3</th>\n",
              "      <td>52</td>\n",
              "      <td>0</td>\n",
              "      <td>0</td>\n",
              "    </tr>\n",
              "    <tr>\n",
              "      <th>4</th>\n",
              "      <td>46</td>\n",
              "      <td>1</td>\n",
              "      <td>1</td>\n",
              "    </tr>\n",
              "  </tbody>\n",
              "</table>\n",
              "</div>\n",
              "    <div class=\"colab-df-buttons\">\n",
              "\n",
              "  <div class=\"colab-df-container\">\n",
              "    <button class=\"colab-df-convert\" onclick=\"convertToInteractive('df-ecce52f4-3cf7-4e09-8a5e-05c4400bfd47')\"\n",
              "            title=\"Convert this dataframe to an interactive table.\"\n",
              "            style=\"display:none;\">\n",
              "\n",
              "  <svg xmlns=\"http://www.w3.org/2000/svg\" height=\"24px\" viewBox=\"0 -960 960 960\">\n",
              "    <path d=\"M120-120v-720h720v720H120Zm60-500h600v-160H180v160Zm220 220h160v-160H400v160Zm0 220h160v-160H400v160ZM180-400h160v-160H180v160Zm440 0h160v-160H620v160ZM180-180h160v-160H180v160Zm440 0h160v-160H620v160Z\"/>\n",
              "  </svg>\n",
              "    </button>\n",
              "\n",
              "  <style>\n",
              "    .colab-df-container {\n",
              "      display:flex;\n",
              "      gap: 12px;\n",
              "    }\n",
              "\n",
              "    .colab-df-convert {\n",
              "      background-color: #E8F0FE;\n",
              "      border: none;\n",
              "      border-radius: 50%;\n",
              "      cursor: pointer;\n",
              "      display: none;\n",
              "      fill: #1967D2;\n",
              "      height: 32px;\n",
              "      padding: 0 0 0 0;\n",
              "      width: 32px;\n",
              "    }\n",
              "\n",
              "    .colab-df-convert:hover {\n",
              "      background-color: #E2EBFA;\n",
              "      box-shadow: 0px 1px 2px rgba(60, 64, 67, 0.3), 0px 1px 3px 1px rgba(60, 64, 67, 0.15);\n",
              "      fill: #174EA6;\n",
              "    }\n",
              "\n",
              "    .colab-df-buttons div {\n",
              "      margin-bottom: 4px;\n",
              "    }\n",
              "\n",
              "    [theme=dark] .colab-df-convert {\n",
              "      background-color: #3B4455;\n",
              "      fill: #D2E3FC;\n",
              "    }\n",
              "\n",
              "    [theme=dark] .colab-df-convert:hover {\n",
              "      background-color: #434B5C;\n",
              "      box-shadow: 0px 1px 3px 1px rgba(0, 0, 0, 0.15);\n",
              "      filter: drop-shadow(0px 1px 2px rgba(0, 0, 0, 0.3));\n",
              "      fill: #FFFFFF;\n",
              "    }\n",
              "  </style>\n",
              "\n",
              "    <script>\n",
              "      const buttonEl =\n",
              "        document.querySelector('#df-ecce52f4-3cf7-4e09-8a5e-05c4400bfd47 button.colab-df-convert');\n",
              "      buttonEl.style.display =\n",
              "        google.colab.kernel.accessAllowed ? 'block' : 'none';\n",
              "\n",
              "      async function convertToInteractive(key) {\n",
              "        const element = document.querySelector('#df-ecce52f4-3cf7-4e09-8a5e-05c4400bfd47');\n",
              "        const dataTable =\n",
              "          await google.colab.kernel.invokeFunction('convertToInteractive',\n",
              "                                                    [key], {});\n",
              "        if (!dataTable) return;\n",
              "\n",
              "        const docLinkHtml = 'Like what you see? Visit the ' +\n",
              "          '<a target=\"_blank\" href=https://colab.research.google.com/notebooks/data_table.ipynb>data table notebook</a>'\n",
              "          + ' to learn more about interactive tables.';\n",
              "        element.innerHTML = '';\n",
              "        dataTable['output_type'] = 'display_data';\n",
              "        await google.colab.output.renderOutput(dataTable, element);\n",
              "        const docLink = document.createElement('div');\n",
              "        docLink.innerHTML = docLinkHtml;\n",
              "        element.appendChild(docLink);\n",
              "      }\n",
              "    </script>\n",
              "  </div>\n",
              "\n",
              "\n",
              "<div id=\"df-09a78b9e-882b-49e5-a541-6f8ece03a13c\">\n",
              "  <button class=\"colab-df-quickchart\" onclick=\"quickchart('df-09a78b9e-882b-49e5-a541-6f8ece03a13c')\"\n",
              "            title=\"Suggest charts\"\n",
              "            style=\"display:none;\">\n",
              "\n",
              "<svg xmlns=\"http://www.w3.org/2000/svg\" height=\"24px\"viewBox=\"0 0 24 24\"\n",
              "     width=\"24px\">\n",
              "    <g>\n",
              "        <path d=\"M19 3H5c-1.1 0-2 .9-2 2v14c0 1.1.9 2 2 2h14c1.1 0 2-.9 2-2V5c0-1.1-.9-2-2-2zM9 17H7v-7h2v7zm4 0h-2V7h2v10zm4 0h-2v-4h2v4z\"/>\n",
              "    </g>\n",
              "</svg>\n",
              "  </button>\n",
              "\n",
              "<style>\n",
              "  .colab-df-quickchart {\n",
              "      --bg-color: #E8F0FE;\n",
              "      --fill-color: #1967D2;\n",
              "      --hover-bg-color: #E2EBFA;\n",
              "      --hover-fill-color: #174EA6;\n",
              "      --disabled-fill-color: #AAA;\n",
              "      --disabled-bg-color: #DDD;\n",
              "  }\n",
              "\n",
              "  [theme=dark] .colab-df-quickchart {\n",
              "      --bg-color: #3B4455;\n",
              "      --fill-color: #D2E3FC;\n",
              "      --hover-bg-color: #434B5C;\n",
              "      --hover-fill-color: #FFFFFF;\n",
              "      --disabled-bg-color: #3B4455;\n",
              "      --disabled-fill-color: #666;\n",
              "  }\n",
              "\n",
              "  .colab-df-quickchart {\n",
              "    background-color: var(--bg-color);\n",
              "    border: none;\n",
              "    border-radius: 50%;\n",
              "    cursor: pointer;\n",
              "    display: none;\n",
              "    fill: var(--fill-color);\n",
              "    height: 32px;\n",
              "    padding: 0;\n",
              "    width: 32px;\n",
              "  }\n",
              "\n",
              "  .colab-df-quickchart:hover {\n",
              "    background-color: var(--hover-bg-color);\n",
              "    box-shadow: 0 1px 2px rgba(60, 64, 67, 0.3), 0 1px 3px 1px rgba(60, 64, 67, 0.15);\n",
              "    fill: var(--button-hover-fill-color);\n",
              "  }\n",
              "\n",
              "  .colab-df-quickchart-complete:disabled,\n",
              "  .colab-df-quickchart-complete:disabled:hover {\n",
              "    background-color: var(--disabled-bg-color);\n",
              "    fill: var(--disabled-fill-color);\n",
              "    box-shadow: none;\n",
              "  }\n",
              "\n",
              "  .colab-df-spinner {\n",
              "    border: 2px solid var(--fill-color);\n",
              "    border-color: transparent;\n",
              "    border-bottom-color: var(--fill-color);\n",
              "    animation:\n",
              "      spin 1s steps(1) infinite;\n",
              "  }\n",
              "\n",
              "  @keyframes spin {\n",
              "    0% {\n",
              "      border-color: transparent;\n",
              "      border-bottom-color: var(--fill-color);\n",
              "      border-left-color: var(--fill-color);\n",
              "    }\n",
              "    20% {\n",
              "      border-color: transparent;\n",
              "      border-left-color: var(--fill-color);\n",
              "      border-top-color: var(--fill-color);\n",
              "    }\n",
              "    30% {\n",
              "      border-color: transparent;\n",
              "      border-left-color: var(--fill-color);\n",
              "      border-top-color: var(--fill-color);\n",
              "      border-right-color: var(--fill-color);\n",
              "    }\n",
              "    40% {\n",
              "      border-color: transparent;\n",
              "      border-right-color: var(--fill-color);\n",
              "      border-top-color: var(--fill-color);\n",
              "    }\n",
              "    60% {\n",
              "      border-color: transparent;\n",
              "      border-right-color: var(--fill-color);\n",
              "    }\n",
              "    80% {\n",
              "      border-color: transparent;\n",
              "      border-right-color: var(--fill-color);\n",
              "      border-bottom-color: var(--fill-color);\n",
              "    }\n",
              "    90% {\n",
              "      border-color: transparent;\n",
              "      border-bottom-color: var(--fill-color);\n",
              "    }\n",
              "  }\n",
              "</style>\n",
              "\n",
              "  <script>\n",
              "    async function quickchart(key) {\n",
              "      const quickchartButtonEl =\n",
              "        document.querySelector('#' + key + ' button');\n",
              "      quickchartButtonEl.disabled = true;  // To prevent multiple clicks.\n",
              "      quickchartButtonEl.classList.add('colab-df-spinner');\n",
              "      try {\n",
              "        const charts = await google.colab.kernel.invokeFunction(\n",
              "            'suggestCharts', [key], {});\n",
              "      } catch (error) {\n",
              "        console.error('Error during call to suggestCharts:', error);\n",
              "      }\n",
              "      quickchartButtonEl.classList.remove('colab-df-spinner');\n",
              "      quickchartButtonEl.classList.add('colab-df-quickchart-complete');\n",
              "    }\n",
              "    (() => {\n",
              "      let quickchartButtonEl =\n",
              "        document.querySelector('#df-09a78b9e-882b-49e5-a541-6f8ece03a13c button');\n",
              "      quickchartButtonEl.style.display =\n",
              "        google.colab.kernel.accessAllowed ? 'block' : 'none';\n",
              "    })();\n",
              "  </script>\n",
              "</div>\n",
              "    </div>\n",
              "  </div>\n"
            ]
          },
          "metadata": {},
          "execution_count": 16
        }
      ]
    },
    {
      "cell_type": "code",
      "source": [
        "from sklearn.model_selection import train_test_split\n",
        "X_train, X_test, y_train, y_test = train_test_split(df[['age','affordibility']],df.bought_insurance,test_size=0.2, random_state= 25)"
      ],
      "metadata": {
        "id": "tp0qZeg038Me"
      },
      "execution_count": 17,
      "outputs": []
    },
    {
      "cell_type": "code",
      "source": [
        "# Scaling the age factor because this is giving good accuracy, one of the drawbacks of neural network"
      ],
      "metadata": {
        "id": "CCNIeT_b3oJI"
      },
      "execution_count": 18,
      "outputs": []
    },
    {
      "cell_type": "code",
      "source": [
        "X_train_scaled= X_train.copy()\n",
        "X_train_scaled['age']= X_train_scaled['age']/100\n",
        "\n",
        "X_test_scaled= X_test.copy()\n",
        "X_test_scaled['age']= X_test_scaled['age']/100\n"
      ],
      "metadata": {
        "id": "c7AyBzCq3oF8"
      },
      "execution_count": 19,
      "outputs": []
    },
    {
      "cell_type": "code",
      "source": [],
      "metadata": {
        "id": "TuGIXkyo3nsu"
      },
      "execution_count": 19,
      "outputs": []
    },
    {
      "cell_type": "markdown",
      "source": [],
      "metadata": {
        "id": "IpsZhycx3ndg"
      }
    },
    {
      "cell_type": "code",
      "source": [
        "# Firstly write a sigmoid function"
      ],
      "metadata": {
        "id": "pIR2EZnZxXvG"
      },
      "execution_count": 20,
      "outputs": []
    },
    {
      "cell_type": "code",
      "source": [
        "def sigmoid_numpy(X):\n",
        "  return 1/(1+np.exp(-X))\n",
        "\n",
        "sigmoid_numpy(np.array([12,0,1]))"
      ],
      "metadata": {
        "colab": {
          "base_uri": "https://localhost:8080/"
        },
        "id": "QGpunrz1ya4H",
        "outputId": "cedd16f7-7c4a-4881-dca8-d5864c019f9a"
      },
      "execution_count": 21,
      "outputs": [
        {
          "output_type": "execute_result",
          "data": {
            "text/plain": [
              "array([0.99999386, 0.5       , 0.73105858])"
            ]
          },
          "metadata": {},
          "execution_count": 21
        }
      ]
    },
    {
      "cell_type": "code",
      "source": [
        "# write a logloss function although we can use tensorflow lib."
      ],
      "metadata": {
        "id": "J7hFEis5y84q"
      },
      "execution_count": 22,
      "outputs": []
    },
    {
      "cell_type": "code",
      "source": [
        "def log_loss(y_true, y_predicted):\n",
        "    epsilon = 1e-15\n",
        "    y_predicted_new = [max(i,epsilon) for i in y_predicted]\n",
        "    y_predicted_new = [min(i,1-epsilon) for i in y_predicted_new]\n",
        "    y_predicted_new = np.array(y_predicted_new)\n",
        "    return -np.mean(y_true*np.log(y_predicted_new)+(1-y_true)*np.log(1-y_predicted_new))"
      ],
      "metadata": {
        "id": "sSNc8cSZzYXG"
      },
      "execution_count": 23,
      "outputs": []
    },
    {
      "cell_type": "code",
      "source": [
        "class NN:\n",
        "  def __init__(self):\n",
        "    self.w1=1\n",
        "    self.w2= 1\n",
        "    self.bias=0\n",
        "\n",
        "\n",
        "  def fit(self, X,y,epochs,loss_thresold):\n",
        "    self.w1, self.w2, self.bias= self.gradient_descent(X['age'],X['affordibility'], y, epochs,loss_thresold)\n",
        "\n",
        "  def predict(self,X_test):\n",
        "    weighted_sum=  self.w1* X_test['age'] + self.w2* X_test['affordibility'] + self.bias\n",
        "    return sigmoid_numpy(weighted_sum)\n",
        "\n",
        "\n",
        "  def gradient_descent(self,age, affordibility,y_true,epochs, loss_thresold):\n",
        "    w1=w2=1\n",
        "    bias=0\n",
        "    rate= 0.001\n",
        "    n= len(age)\n",
        "\n",
        "    for i in range(epochs):\n",
        "      weighted_sum= w1*age + w2*affordibility + bias\n",
        "      y_predicted= sigmoid_numpy(weighted_sum)\n",
        "      loss= log_loss(y_true,y_predicted)\n",
        "\n",
        "\n",
        "      w1d = (1 / n) * np.dot(np.transpose(age), (y_predicted - y_true))\n",
        "      w2d = (1 / n) * np.dot(np.transpose(affordibility), (y_predicted - y_true))\n",
        "\n",
        "\n",
        "      bias_d= np.mean(y_predicted-y_true)\n",
        "      w1= w1 - rate *w1d\n",
        "      w2= w2 - rate*w2d\n",
        "      bias= bias- rate* bias_d\n",
        "\n",
        "\n",
        "      if i%100==0:\n",
        "        print (f'Epoch:{i}, w1:{w1}, w2:{w2}, bias:{bias}, loss:{loss}')\n",
        "\n",
        "      if loss<= loss_thresold:\n",
        "        print (f'Epoch:{i}, w1:{w1}, w2:{w2}, bias:{bias}, loss:{loss}')\n",
        "        break\n",
        "    return w1, w2, bias\n"
      ],
      "metadata": {
        "id": "5LE8WKPG5oaR"
      },
      "execution_count": 24,
      "outputs": []
    },
    {
      "cell_type": "code",
      "source": [
        "customModel = NN()\n",
        "customModel.fit(X_train_scaled, y_train, epochs=10000, loss_thresold= 0.5)\n"
      ],
      "metadata": {
        "colab": {
          "base_uri": "https://localhost:8080/"
        },
        "id": "5zjJgLuO5oV-",
        "outputId": "5fe79aa4-8c27-4dcd-b2a1-d7b7408cc31d"
      },
      "execution_count": 25,
      "outputs": [
        {
          "output_type": "stream",
          "name": "stdout",
          "text": [
            "Epoch:0, w1:0.9999498152669404, w2:0.999896696250789, bias:-0.00022683735472737166, loss:0.7113403233723417\n",
            "Epoch:100, w1:0.9950436680089053, w2:0.9897421188853068, bias:-0.02262732965202409, loss:0.705047669222671\n",
            "Epoch:200, w1:0.9903580712015329, w2:0.9799337047291492, bias:-0.04447205690240552, loss:0.6990912876473433\n",
            "Epoch:300, w1:0.9858900558845864, w2:0.9704681860686631, bias:-0.06576903737918839, loss:0.6934573336994766\n",
            "Epoch:400, w1:0.9816364456196178, w2:0.9613418457444443, bias:-0.08652676828415395, loss:0.6881320328936441\n",
            "Epoch:500, w1:0.9775938745830464, w2:0.9525505478804329, bias:-0.10675418036135212, loss:0.6831017373646083\n",
            "Epoch:600, w1:0.9737588057575223, w2:0.944089769519934, bias:-0.12646059257277326, loss:0.67835297708311\n",
            "Epoch:700, w1:0.97012754905488, w2:0.9359546327996099, bias:-0.1456556672243555, loss:0.6738725059772142\n",
            "Epoch:800, w1:0.9666962792187974, w2:0.9281399373180489, bias:-0.16434936589258117, loss:0.6696473429002678\n",
            "Epoch:900, w1:0.9634610533712252, w2:0.9206401923846046, bias:-0.18255190646152686, loss:0.6656648074699952\n",
            "Epoch:1000, w1:0.9604178280832437, w2:0.9134496488657603, bias:-0.20027372153880685, loss:0.6619125508766145\n",
            "Epoch:1100, w1:0.9575624758678422, w2:0.9065623303791979, bias:-0.21752541847742524, loss:0.6583785818206143\n",
            "Epoch:1200, w1:0.9548908010087505, w2:0.8999720636192112, bias:-0.23431774119000265, loss:0.6550512877928237\n",
            "Epoch:1300, w1:0.9523985546556183, w2:0.8936725076301962, bias:-0.25066153390292073, loss:0.6519194519508921\n",
            "Epoch:1400, w1:0.9500814491311824, w2:0.8876571818770946, bias:-0.26656770696122123, loss:0.6489722658777414\n",
            "Epoch:1500, w1:0.9479351714104749, w2:0.8819194929922487, bias:-0.28204720476104084, loss:0.6461993385297107\n",
            "Epoch:1600, w1:0.945955395745359, w2:0.8764527601067593, bias:-0.2971109758552997, loss:0.6435907016958063\n",
            "Epoch:1700, w1:0.9441377954196941, w2:0.8712502387008182, bias:-0.31176994525044943, loss:0.6411368122957062\n",
            "Epoch:1800, w1:0.9424780536311486, w2:0.8663051429314221, bias:-0.3260349888874371, loss:0.6388285518439234\n",
            "Epoch:1900, w1:0.9409718735050729, w2:0.8616106664172227, bias:-0.3399169102786261, loss:0.6366572234018316\n",
            "Epoch:2000, w1:0.939614987253973, w2:0.857160001479101, bias:-0.3534264192541708, loss:0.6346145463290856\n",
            "Epoch:2100, w1:0.9384031645029641, w2:0.852946356851272, bias:-0.36657411275611834, loss:0.6326926491322397\n",
            "Epoch:2200, w1:0.9373322198072909, w2:0.8489629738915729, bias:-0.3793704576061119, loss:0.6308840606919521\n",
            "Epoch:2300, w1:0.9363980193925526, w2:0.8452031413310829, bias:-0.3918257751628137, loss:0.6291817001318178\n",
            "Epoch:2400, w1:0.9355964871518639, w2:0.8416602086125906, bias:-0.4039502277777699, loss:0.6275788655722631\n",
            "Epoch:2500, w1:0.9349236099368131, w2:0.8383275978748167, bias:-0.41575380695319697, loss:0.626069221992681\n",
            "Epoch:2600, w1:0.9343754421809348, w2:0.8351988146449253, bias:-0.42724632310180893, loss:0.6246467884045266\n",
            "Epoch:2700, w1:0.9339481098955265, w2:0.832267457305887, bias:-0.4384373968070983, loss:0.6233059245178797\n",
            "Epoch:2800, w1:0.9336378140781384, w2:0.8295272254079114, bias:-0.4493364514821822, loss:0.6220413170643098\n",
            "Epoch:2900, w1:0.9334408335740437, w2:0.8269719268945913, bias:-0.45995270732623084, loss:0.6208479659200088\n",
            "Epoch:3000, w1:0.9333535274305056, w2:0.8245954843148237, bias:-0.47029517647938074, loss:0.6197211701552862\n",
            "Epoch:3100, w1:0.9333723367828318, w2:0.822391940091095, bias:-0.4803726592797402, loss:0.6186565141197505\n",
            "Epoch:3200, w1:0.9334937863100438, w2:0.820355460913536, bias:-0.49019374152942513, loss:0.6176498536569596\n",
            "Epoch:3300, w1:0.9337144852966397, w2:0.8184803413274007, bias:-0.4997667926803993, loss:0.6166973025279986\n",
            "Epoch:3400, w1:0.9340311283353472, w2:0.816761006579363, bias:-0.5090999648550809, loss:0.6157952191104044\n",
            "Epoch:3500, w1:0.9344404957041103, w2:0.8151920147854603, bias:-0.5182011926211134, loss:0.6149401934270287\n",
            "Epoch:3600, w1:0.9349394534487706, w2:0.8137680584806459, bias:-0.5270781934442913, loss:0.6141290345488315\n",
            "Epoch:3700, w1:0.9355249532010906, w2:0.8124839656068961, bias:-0.5357384687482787, loss:0.6133587584061373\n",
            "Epoch:3800, w1:0.9361940317599355, w2:0.8113346999936429, bias:-0.5441893055144364, loss:0.6126265760345123\n",
            "Epoch:3900, w1:0.9369438104615957, w2:0.8103153613811336, bias:-0.5524377783596474, loss:0.611929882274083\n",
            "Epoch:4000, w1:0.9377714943634405, w2:0.809421185034082, bias:-0.5604907520345471, loss:0.6112662449346995\n",
            "Epoch:4100, w1:0.9386743712633202, w2:0.8086475409898102, bias:-0.5683548842889358, loss:0.6106333944338227\n",
            "Epoch:4200, w1:0.9396498105754423, w2:0.807989932981983, bias:-0.5760366290553233, loss:0.6100292139092655\n",
            "Epoch:4300, w1:0.9406952620818101, w2:0.8074439970779796, bias:-0.5835422399055992, loss:0.6094517298048913\n",
            "Epoch:4400, w1:0.9418082545767489, w2:0.8070055000650745, bias:-0.5908777737396209, loss:0.6088991029239991\n",
            "Epoch:4500, w1:0.942986394420562, w2:0.806670337617787, bias:-0.5980490946681315, loss:0.6083696199423136\n",
            "Epoch:4600, w1:0.9442273640169527, w2:0.8064345322761043, bias:-0.6050618780558096, loss:0.6078616853702169\n",
            "Epoch:4700, w1:0.945528920227541, w2:0.806294231261786, bias:-0.6119216146934515, loss:0.6073738139520102\n",
            "Epoch:4800, w1:0.9468888927355434, w2:0.8062457041575611, bias:-0.6186336150712541, loss:0.6069046234885632\n",
            "Epoch:4900, w1:0.9483051823695653, w2:0.8062853404718225, bias:-0.6252030137279342, loss:0.6064528280686098\n",
            "Epoch:5000, w1:0.9497757593973367, w2:0.8064096471093234, bias:-0.631634773653002, loss:0.6060172316931477\n",
            "Epoch:5100, w1:0.9512986617982684, w2:0.8066152457664477, bias:-0.637933690721878, loss:0.6055967222768814\n",
            "Epoch:5200, w1:0.9528719935227498, w2:0.8068988702678174, bias:-0.6441043981457267, loss:0.6051902660103118\n",
            "Epoch:5300, w1:0.9544939227452786, w2:0.8072573638593137, bias:-0.6501513709199134, loss:0.6047969020659587\n",
            "Epoch:5400, w1:0.9561626801177162, w2:0.807687676471061, bias:-0.6560789302568379, loss:0.6044157376322347\n",
            "Epoch:5500, w1:0.9578765570282612, w2:0.8081868619624718, bias:-0.6618912479905832, loss:0.6040459432586357\n",
            "Epoch:5600, w1:0.9596339038710484, w2:0.8087520753601526, bias:-0.6675923509423803, loss:0.6036867484961947\n",
            "Epoch:5700, w1:0.9614331283307032, w2:0.8093805700982596, bias:-0.6731861252372966, loss:0.6033374378174873\n",
            "Epoch:5800, w1:0.9632726936856264, w2:0.8100696952697864, bias:-0.6786763205638312, loss:0.6029973468009113\n",
            "Epoch:5900, w1:0.9651511171332683, w2:0.8108168928962559, bias:-0.6840665543692793, loss:0.602665858564433\n",
            "Epoch:6000, w1:0.967066968140226, w2:0.8116196952223678, bias:-0.6893603159847768, loss:0.6023424004345131\n",
            "Epoch:6100, w1:0.9690188668195574, w2:0.8124757220413176, bias:-0.6945609706748782, loss:0.6020264408364748\n",
            "Epoch:6200, w1:0.9710054823373594, w2:0.8133826780557326, bias:-0.6996717636074036, loss:0.6017174863931399\n",
            "Epoch:6300, w1:0.9730255313502991, w2:0.8143383502784843, bias:-0.7046958237400424, loss:0.6014150792191387\n",
            "Epoch:6400, w1:0.9750777764755052, w2:0.8153406054770037, bias:-0.7096361676209084, loss:0.6011187943988845\n",
            "Epoch:6500, w1:0.9771610247939363, w2:0.816387387664176, bias:-0.7144957031008569, loss:0.6008282376367785\n",
            "Epoch:6600, w1:0.9792741263881202, w2:0.8174767156383546, bias:-0.7192772329559299, loss:0.6005430430687974\n",
            "Epoch:6700, w1:0.9814159729149141, w2:0.8186066805745964, bias:-0.7239834584187987, loss:0.6002628712251661\n",
            "Epoch:6800, w1:0.9835854962137737, w2:0.819775443668801, bias:-0.7286169826184977, loss:0.5999874071343878\n",
            "Epoch:6900, w1:0.9857816669508114, w2:0.8209812338360607, bias:-0.7331803139281491, loss:0.5997163585594265\n",
            "Epoch:7000, w1:0.9880034932988015, w2:0.8222223454642104, bias:-0.7376758692207017, loss:0.5994494543573664\n",
            "Epoch:7100, w1:0.9902500196531349, w2:0.82349713622325, bias:-0.742105977033038, loss:0.5991864429543667\n",
            "Epoch:7200, w1:0.9925203253836119, w2:0.8248040249310745, bias:-0.7464728806390342, loss:0.5989270909282219\n",
            "Epoch:7300, w1:0.9948135236218638, w2:0.8261414894756995, bias:-0.7507787410324208, loss:0.5986711816912853\n",
            "Epoch:7400, w1:0.9971287600840925, w2:0.8275080647939604, bias:-0.7550256398204633, loss:0.5984185142669664\n",
            "Epoch:7500, w1:0.9994652119287405, w2:0.8289023409064985, bias:-0.7592155820296806, loss:0.5981689021534262\n",
            "Epoch:7600, w1:1.0018220866486411, w2:0.8303229610086683, bias:-0.7633504988249393, loss:0.5979221722684973\n",
            "Epoch:7700, w1:1.0041986209971316, w2:0.8317686196168782, bias:-0.7674322501434119, loss:0.5976781639702285\n",
            "Epoch:7800, w1:1.0065940799475717, w2:0.8332380607697478, bias:-0.7714626272449792, loss:0.5974367281478193\n",
            "Epoch:7900, w1:1.0090077556856483, w2:0.8347300762833548, bias:-0.7754433551807378, loss:0.5971977263780492\n",
            "Epoch:8000, w1:1.0114389666338455, w2:0.836243504059775, bias:-0.7793760951813566, loss:0.5969610301426158\n",
            "Epoch:8100, w1:1.0138870565073945, w2:0.8377772264480143, bias:-0.7832624469670808, loss:0.596726520102115\n",
            "Epoch:8200, w1:1.0163513934010127, w2:0.8393301686563973, bias:-0.7871039509812116, loss:0.5964940854226667\n",
            "Epoch:8300, w1:1.0188313689057278, w2:0.8409012972153977, bias:-0.7909020905489419, loss:0.5962636231514636\n",
            "Epoch:8400, w1:1.0213263972550686, w2:0.842489618489867, bias:-0.7946582939634282, loss:0.5960350376377722\n",
            "Epoch:8500, w1:1.023835914499867, w2:0.8440941772395854, bias:-0.7983739365010111, loss:0.5958082399961474\n",
            "Epoch:8600, w1:1.0263593777109525, w2:0.8457140552270151, bias:-0.8020503423674873, loss:0.5955831476088473\n",
            "Epoch:8700, w1:1.028896264209, w2:0.8473483698711362, bias:-0.8056887865773469, loss:0.5953596836646403\n",
            "Epoch:8800, w1:1.0314460708207625, w2:0.8489962729462085, bias:-0.8092904967678581, loss:0.5951377767313896\n",
            "Epoch:8900, w1:1.0340083131609878, w2:0.8506569493243209, bias:-0.8128566549499003, loss:0.5949173603599838\n",
            "Epoch:9000, w1:1.036582524939249, w2:0.8523296157605607, bias:-0.8163883991974044, loss:0.5946983727173516\n",
            "Epoch:9100, w1:1.0391682572909877, w2:0.8540135197196488, bias:-0.8198868252772353, loss:0.5944807562464551\n",
            "Epoch:9200, w1:1.0417650781320364, w2:0.8557079382428903, bias:-0.823352988221347, loss:0.5942644573513082\n",
            "Epoch:9300, w1:1.0443725715359164, w2:0.8574121768542899, bias:-0.8267879038429874, loss:0.5940494261051981\n",
            "Epoch:9400, w1:1.046990337133202, w2:0.8591255685047017, bias:-0.8301925501987197, loss:0.5938356159804286\n",
            "Epoch:9500, w1:1.0496179895322844, w2:0.8608474725528868, bias:-0.8335678689979783, loss:0.5936229835980066\n",
            "Epoch:9600, w1:1.0522551577608286, w2:0.8625772737823716, bias:-0.8369147669618432, loss:0.5934114884958248\n",
            "Epoch:9700, w1:1.0549014847273004, w2:0.8643143814530142, bias:-0.8402341171327015, loss:0.5932010929139796\n",
            "Epoch:9800, w1:1.057556626701881, w2:0.8660582283862072, bias:-0.8435267601363899, loss:0.5929917615959749\n",
            "Epoch:9900, w1:1.0602202528161555, w2:0.8678082700826605, bias:-0.8467935053984145, loss:0.5927834616046447\n"
          ]
        }
      ]
    },
    {
      "cell_type": "code",
      "source": [
        "customModel.predict(X_test_scaled)"
      ],
      "metadata": {
        "colab": {
          "base_uri": "https://localhost:8080/"
        },
        "id": "Q2RKQQJZzYOY",
        "outputId": "e9b2f520-a05f-4aff-eb16-b2dbe056a40a"
      },
      "execution_count": 26,
      "outputs": [
        {
          "output_type": "execute_result",
          "data": {
            "text/plain": [
              "2     0.626935\n",
              "10    0.552520\n",
              "21    0.360393\n",
              "11    0.578629\n",
              "14    0.631893\n",
              "9     0.661031\n",
              "dtype: float64"
            ]
          },
          "metadata": {},
          "execution_count": 26
        }
      ]
    }
  ]
}